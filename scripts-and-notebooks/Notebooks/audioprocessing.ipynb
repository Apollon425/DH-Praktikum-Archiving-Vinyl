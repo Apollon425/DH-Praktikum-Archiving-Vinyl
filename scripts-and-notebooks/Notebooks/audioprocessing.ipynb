{
 "cells": [
  {
   "cell_type": "code",
   "execution_count": 1,
   "metadata": {},
   "outputs": [],
   "source": [
    "import librosa\n",
    "import soundfile as sf\n",
    "import pandas as pd\n",
    "import numpy as np\n",
    "\n",
    "import matplotlib.pyplot as plt\n",
    "import seaborn as sns\n",
    "from glob import glob\n",
    "\n",
    "import librosa.display\n",
    "\n",
    "import IPython.display as ipd\n",
    "\n",
    "from itertools import cycle\n",
    "\n",
    "sns.set_theme(style=\"white\", palette=None)\n",
    "color_pal = plt.rcParams[\"axes.prop_cycle\"].by_key()[\"color\"]\n",
    "color_cycle = cycle(plt.rcParams[\"axes.prop_cycle\"].by_key()[\"color\"])"
   ]
  },
  {
   "cell_type": "code",
   "execution_count": null,
   "metadata": {},
   "outputs": [],
   "source": [
    "\n",
    "audio_files_vinyl = glob(\"C:/Users/richa/Desktop/Audio/Vinyl/*.wav\")\n",
    "audio_files_original = glob(\"C:/Users/richa/Desktop/Audio/Original/*.wav\")\n",
    "#ipd.Audio(audio_files[0])#\n",
    "\n",
    "\n",
    "for index, file in enumerate(audio_files_vinyl):\n",
    "    index\n",
    "\n",
    "    y, sr = librosa.load(audio_files_vinyl[index], sr=48000)\n",
    "    sf.write(f\"C:/Users/richa/Desktop/Audio/Vinyl{index}.wav\", y, samplerate=sr)\n",
    "\n",
    "\n",
    "for index, file in enumerate(audio_files_original):\n",
    "\n",
    "    y, sr = librosa.load(audio_files_original[index], sr=48000)\n",
    "    sf.write(f\"C:/Users/richa/Desktop/Audio/Original{index}.wav\", y, samplerate=sr)"
   ]
  },
  {
   "cell_type": "code",
   "execution_count": null,
   "metadata": {},
   "outputs": [],
   "source": [
    "ipd.Audio(audio_files[7])"
   ]
  }
 ],
 "metadata": {
  "kernelspec": {
   "display_name": "Python 3",
   "language": "python",
   "name": "python3"
  },
  "language_info": {
   "codemirror_mode": {
    "name": "ipython",
    "version": 3
   },
   "file_extension": ".py",
   "mimetype": "text/x-python",
   "name": "python",
   "nbconvert_exporter": "python",
   "pygments_lexer": "ipython3",
   "version": "3.11.2"
  }
 },
 "nbformat": 4,
 "nbformat_minor": 2
}
